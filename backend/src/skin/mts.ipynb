{
 "cells": [
  {
   "cell_type": "code",
   "execution_count": 1,
   "id": "b8cf76a3-e19a-416d-9ab4-21246917aaf3",
   "metadata": {},
   "outputs": [],
   "source": [
    "import torch\n",
    "import torch.nn as nn\n",
    "import torch.nn.functional as F\n",
    "from torch.utils.data import DataLoader, WeightedRandomSampler\n",
    "from torchvision import datasets, transforms\n",
    "from torch.optim import Adam\n",
    "from torch.optim.lr_scheduler import ReduceLROnPlateau\n",
    "from tqdm import tqdm\n",
    "import numpy as np\n",
    "import matplotlib.pyplot as plt\n"
   ]
  },
  {
   "cell_type": "code",
   "execution_count": 2,
   "id": "3bbf4634-0839-410f-992d-23b910a2cade",
   "metadata": {},
   "outputs": [
    {
     "name": "stdout",
     "output_type": "stream",
     "text": [
      "cuda\n"
     ]
    }
   ],
   "source": [
    "data_dir = r'C:\\Users\\Jatin\\Desktop\\oncogenesis\\data\\skin_data'\n",
    "batch_size = 10\n",
    "num_classes = 7\n",
    "epochs = 50\n",
    "device = torch.device(\"cuda\" if torch.cuda.is_available() else \"cpu\")\n",
    "print(device)"
   ]
  },
  {
   "cell_type": "code",
   "execution_count": 3,
   "id": "21e89ca1-887c-4b3b-89a1-7cd4e377f7aa",
   "metadata": {},
   "outputs": [],
   "source": [
    "class GaussianNoise:\n",
    "    def __init__(self, mean=0., std=1.):\n",
    "        self.std = std\n",
    "        self.mean = mean\n",
    "        \n",
    "    def __call__(self, tensor):\n",
    "        return tensor + torch.randn(tensor.size()) * self.std + self.mean\n",
    "    \n",
    "    def __repr__(self):\n",
    "        return self.__class__.__name__ + '(mean={0}, std={1})'.format(self.mean, self.std)\n",
    "\n",
    "train_transform = transforms.Compose([\n",
    "    transforms.Resize((128, 128)),  # Increased resolution\n",
    "    transforms.RandomRotation(45),  # More rotation\n",
    "    transforms.RandomResizedCrop((128, 128), scale=(0.7, 1.3)),  # More scale variation\n",
    "    transforms.RandomHorizontalFlip(p=0.5),\n",
    "    transforms.RandomVerticalFlip(p=0.2),  # Some medical images might be flipped\n",
    "    transforms.ColorJitter(\n",
    "        brightness=0.3,\n",
    "        contrast=0.3,\n",
    "        saturation=0.3,\n",
    "        hue=0.1\n",
    "    ),\n",
    "    transforms.RandomAffine(\n",
    "        degrees=45,\n",
    "        translate=(0.2, 0.2),\n",
    "        scale=(0.7, 1.3),\n",
    "        shear=15\n",
    "    ),\n",
    "    transforms.RandomPerspective(distortion_scale=0.2, p=0.5),\n",
    "    transforms.ToTensor(),\n",
    "    transforms.Normalize(mean=[0.485, 0.456, 0.406], std=[0.229, 0.224, 0.225]),  # ImageNet stats\n",
    "    GaussianNoise(0., 0.01)  # Slight noise for robustness\n",
    "])\n",
    "\n",
    "val_transform = transforms.Compose([\n",
    "    transforms.Resize((128, 128)),\n",
    "    transforms.ToTensor(),\n",
    "    transforms.Normalize(mean=[0.485, 0.456, 0.406], std=[0.229, 0.224, 0.225])\n",
    "])"
   ]
  },
  {
   "cell_type": "code",
   "execution_count": 4,
   "id": "e278c8fe-8b5e-45c4-8476-7f70811386e2",
   "metadata": {},
   "outputs": [],
   "source": [
    "full_dataset = datasets.ImageFolder(root=data_dir, transform=train_transform)\n",
    "\n",
    "# First split the dataset\n",
    "train_size = int(0.8 * len(full_dataset))\n",
    "val_size = int(0.1 * len(full_dataset))\n",
    "test_size = len(full_dataset) - train_size - val_size\n",
    "\n",
    "train_dataset, val_dataset, test_dataset = torch.utils.data.random_split(\n",
    "    full_dataset, [train_size, val_size, test_size],\n",
    "    generator=torch.Generator().manual_seed(1234)\n",
    ")\n",
    "\n",
    "# Calculate weights only for training set\n",
    "train_targets = [full_dataset.targets[i] for i in train_dataset.indices]\n",
    "class_sample_counts = np.bincount(train_targets)\n",
    "class_weights = 1. / class_sample_counts\n",
    "samples_weights = [class_weights[t] for t in train_targets]"
   ]
  },
  {
   "cell_type": "code",
   "execution_count": 5,
   "id": "30b4614b-219d-4292-b3db-cd353b0ef2a5",
   "metadata": {},
   "outputs": [],
   "source": [
    "sampler = WeightedRandomSampler(weights=samples_weights, num_samples=len(samples_weights), replacement=True)\n",
    "\n",
    "# Split train/val/test\n",
    "train_size = int(0.8 * len(full_dataset))\n",
    "val_size = int(0.1 * len(full_dataset))\n",
    "test_size = len(full_dataset) - train_size - val_size\n",
    "train_dataset, val_dataset, test_dataset = torch.utils.data.random_split(\n",
    "    full_dataset, [train_size, val_size, test_size],\n",
    "    generator=torch.Generator().manual_seed(1234)\n",
    ")"
   ]
  },
  {
   "cell_type": "code",
   "execution_count": 6,
   "id": "f5cb80b3-beb5-476a-b9bb-feecba7221c5",
   "metadata": {},
   "outputs": [],
   "source": [
    "# Set validation and test transforms\n",
    "val_dataset.dataset.transform = val_transform\n",
    "test_dataset.dataset.transform = val_transform\n",
    "\n",
    "# Create sampler only for training data\n",
    "train_sampler = WeightedRandomSampler(weights=samples_weights, \n",
    "                                     num_samples=len(samples_weights), \n",
    "                                     replacement=True)\n",
    "\n",
    "# Train loader with sampler (using train_dataset instead of full_dataset)\n",
    "train_loader = DataLoader(train_dataset, batch_size=batch_size, sampler=train_sampler)\n",
    "# Validation & Test loaders\n",
    "val_loader = DataLoader(val_dataset, batch_size=batch_size, shuffle=False)\n",
    "test_loader = DataLoader(test_dataset, batch_size=batch_size, shuffle=False)"
   ]
  },
  {
   "cell_type": "code",
   "execution_count": 7,
   "id": "4cd69b03-7cb8-4a7e-82e1-6a2992907491",
   "metadata": {},
   "outputs": [],
   "source": [
    "class SkinCNN(nn.Module):\n",
    "    def __init__(self, num_classes=7):\n",
    "        super(SkinCNN, self).__init__()\n",
    "        # Initial convolution block\n",
    "        self.conv1 = nn.Sequential(\n",
    "            nn.Conv2d(3, 64, kernel_size=3, padding=1),\n",
    "            nn.BatchNorm2d(64),\n",
    "            nn.ReLU(),\n",
    "            nn.Conv2d(64, 64, kernel_size=3, padding=1),\n",
    "            nn.BatchNorm2d(64),\n",
    "            nn.ReLU(),\n",
    "            nn.MaxPool2d(2, 2),\n",
    "            nn.Dropout(0.25)\n",
    "        )\n",
    "        \n",
    "        # Second convolution block\n",
    "        self.conv2 = nn.Sequential(\n",
    "            nn.Conv2d(64, 128, kernel_size=3, padding=1),\n",
    "            nn.BatchNorm2d(128),\n",
    "            nn.ReLU(),\n",
    "            nn.Conv2d(128, 128, kernel_size=3, padding=1),\n",
    "            nn.BatchNorm2d(128),\n",
    "            nn.ReLU(),\n",
    "            nn.MaxPool2d(2, 2),\n",
    "            nn.Dropout(0.3)\n",
    "        )\n",
    "        \n",
    "        # Third convolution block\n",
    "        self.conv3 = nn.Sequential(\n",
    "            nn.Conv2d(128, 256, kernel_size=3, padding=1),\n",
    "            nn.BatchNorm2d(256),\n",
    "            nn.ReLU(),\n",
    "            nn.Conv2d(256, 256, kernel_size=3, padding=1),\n",
    "            nn.BatchNorm2d(256),\n",
    "            nn.ReLU(),\n",
    "            nn.MaxPool2d(2, 2),\n",
    "            nn.Dropout(0.4)\n",
    "        )\n",
    "        \n",
    "        # Adaptive pooling to handle variable input sizes\n",
    "        self.adaptive_pool = nn.AdaptiveAvgPool2d((4, 4))\n",
    "        \n",
    "        # Fully connected layers\n",
    "        self.classifier = nn.Sequential(\n",
    "            nn.Flatten(),\n",
    "            nn.Linear(256 * 4 * 4, 512),\n",
    "            nn.BatchNorm1d(512),\n",
    "            nn.ReLU(),\n",
    "            nn.Dropout(0.5),\n",
    "            nn.Linear(512, num_classes)\n",
    "        )\n",
    "        \n",
    "        # Initialize weights\n",
    "        self._initialize_weights()\n",
    "    \n",
    "    def _initialize_weights(self):\n",
    "        for m in self.modules():\n",
    "            if isinstance(m, nn.Conv2d):\n",
    "                nn.init.kaiming_normal_(m.weight, mode='fan_out', nonlinearity='relu')\n",
    "                if m.bias is not None:\n",
    "                    nn.init.constant_(m.bias, 0)\n",
    "            elif isinstance(m, nn.BatchNorm2d):\n",
    "                nn.init.constant_(m.weight, 1)\n",
    "                nn.init.constant_(m.bias, 0)\n",
    "            elif isinstance(m, nn.Linear):\n",
    "                nn.init.normal_(m.weight, 0, 0.01)\n",
    "                nn.init.constant_(m.bias, 0)\n",
    "    \n",
    "    def forward(self, x):\n",
    "        x = self.conv1(x)\n",
    "        x = self.conv2(x)\n",
    "        x = self.conv3(x)\n",
    "        x = self.adaptive_pool(x)\n",
    "        x = self.classifier(x)\n",
    "        return x\n",
    "\n",
    "model = SkinCNN(num_classes=num_classes).to(device)"
   ]
  },
  {
   "cell_type": "code",
   "execution_count": 8,
   "id": "5f2c6e07-3cb1-4480-925d-26e9344a06e0",
   "metadata": {},
   "outputs": [],
   "source": [
    "def mixup_data(x, y, alpha=0.2):\n",
    "    '''Returns mixed inputs, pairs of targets, and lambda'''\n",
    "    if alpha > 0:\n",
    "        lam = np.random.beta(alpha, alpha)\n",
    "    else:\n",
    "        lam = 1\n",
    "\n",
    "    batch_size = x.size()[0]\n",
    "    index = torch.randperm(batch_size).to(device)\n",
    "\n",
    "    mixed_x = lam * x + (1 - lam) * x[index, :]\n",
    "    y_a, y_b = y, y[index]\n",
    "    return mixed_x, y_a, y_b, lam\n",
    "\n",
    "def mixup_criterion(criterion, pred, y_a, y_b, lam):\n",
    "    return lam * criterion(pred, y_a) + (1 - lam) * criterion(pred, y_b)\n",
    "\n",
    "# Weight initialization\n",
    "class_weights_tensor = torch.tensor(class_weights, dtype=torch.float).to(device)\n",
    "criterion = nn.CrossEntropyLoss(weight=class_weights_tensor)\n",
    "\n",
    "# Optimizer with weight decay (L2 regularization)\n",
    "optimizer = torch.optim.AdamW(model.parameters(), lr=0.001, weight_decay=0.01)\n",
    "\n",
    "# Learning rate scheduler with warmup\n",
    "from torch.optim.lr_scheduler import OneCycleLR\n",
    "scheduler = OneCycleLR(\n",
    "    optimizer,\n",
    "    max_lr=0.001,\n",
    "    epochs=epochs,\n",
    "    steps_per_epoch=len(train_loader),\n",
    "    pct_start=0.2,  # Warmup for first 20% of training\n",
    "    div_factor=25,  # LR starts at max_lr/25\n",
    "    final_div_factor=1000  # Final LR is max_lr/1000\n",
    ")"
   ]
  },
  {
   "cell_type": "code",
   "execution_count": 9,
   "id": "4382d2ea-5eaa-4be1-a026-afe5a7be84b3",
   "metadata": {},
   "outputs": [
    {
     "name": "stderr",
     "output_type": "stream",
     "text": [
      "Epoch 1/50 [Train]: 100%|██████████| 1509/1509 [05:32<00:00,  4.54it/s, Loss=1.1895, Acc=0.2406, LR=0.000063]\n",
      "Epoch 1/50 [Train]: 100%|██████████| 1509/1509 [05:32<00:00,  4.54it/s, Loss=1.1895, Acc=0.2406, LR=0.000063]\n",
      "Epoch 1/50 [Val]: 100%|██████████| 189/189 [00:37<00:00,  5.01it/s, Val Loss=2.9049, Val Acc=0.0207]\n",
      "\n"
     ]
    },
    {
     "name": "stdout",
     "output_type": "stream",
     "text": [
      "\n",
      "Epoch 1/50:\n",
      "Train Loss: 1.1895, Train Acc: 0.2406\n",
      "Val Loss: 2.9049, Val Acc: 0.0207\n",
      "Learning Rate: 0.000063\n"
     ]
    },
    {
     "name": "stderr",
     "output_type": "stream",
     "text": [
      "Epoch 2/50 [Train]: 100%|██████████| 1509/1509 [04:55<00:00,  5.10it/s, Loss=1.0100, Acc=0.3017, LR=0.000132]\n",
      "Epoch 2/50 [Train]: 100%|██████████| 1509/1509 [04:55<00:00,  5.10it/s, Loss=1.0100, Acc=0.3017, LR=0.000132]\n",
      "Epoch 2/50 [Val]: 100%|██████████| 189/189 [00:57<00:00,  3.27it/s, Val Loss=2.4969, Val Acc=0.0859]\n",
      "\n"
     ]
    },
    {
     "name": "stdout",
     "output_type": "stream",
     "text": [
      "\n",
      "Epoch 2/50:\n",
      "Train Loss: 1.0100, Train Acc: 0.3017\n",
      "Val Loss: 2.4969, Val Acc: 0.0859\n",
      "Learning Rate: 0.000132\n"
     ]
    },
    {
     "name": "stderr",
     "output_type": "stream",
     "text": [
      "Epoch 3/50 [Train]: 100%|██████████| 1509/1509 [09:12<00:00,  2.73it/s, Loss=0.9484, Acc=0.3401, LR=0.000238]\n",
      "Epoch 3/50 [Train]: 100%|██████████| 1509/1509 [09:12<00:00,  2.73it/s, Loss=0.9484, Acc=0.3401, LR=0.000238]\n",
      "Epoch 3/50 [Val]: 100%|██████████| 189/189 [00:58<00:00,  3.21it/s, Val Loss=1.9405, Val Acc=0.2837]\n",
      "\n"
     ]
    },
    {
     "name": "stdout",
     "output_type": "stream",
     "text": [
      "\n",
      "Epoch 3/50:\n",
      "Train Loss: 0.9484, Train Acc: 0.3401\n",
      "Val Loss: 1.9405, Val Acc: 0.2837\n",
      "Learning Rate: 0.000238\n"
     ]
    },
    {
     "name": "stderr",
     "output_type": "stream",
     "text": [
      "Epoch 4/50 [Train]: 100%|██████████| 1509/1509 [07:14<00:00,  3.47it/s, Loss=0.8986, Acc=0.3736, LR=0.000372]\n",
      "Epoch 4/50 [Train]: 100%|██████████| 1509/1509 [07:14<00:00,  3.47it/s, Loss=0.8986, Acc=0.3736, LR=0.000372]\n",
      "Epoch 4/50 [Val]: 100%|██████████| 189/189 [01:09<00:00,  2.71it/s, Val Loss=1.8909, Val Acc=0.2800]\n",
      "Epoch 4/50 [Val]: 100%|██████████| 189/189 [01:09<00:00,  2.71it/s, Val Loss=1.8909, Val Acc=0.2800]\n"
     ]
    },
    {
     "name": "stdout",
     "output_type": "stream",
     "text": [
      "\n",
      "Epoch 4/50:\n",
      "Train Loss: 0.8986, Train Acc: 0.3736\n",
      "Val Loss: 1.8909, Val Acc: 0.2800\n",
      "Learning Rate: 0.000372\n"
     ]
    },
    {
     "name": "stderr",
     "output_type": "stream",
     "text": [
      "Epoch 5/50 [Train]: 100%|██████████| 1509/1509 [06:16<00:00,  4.01it/s, Loss=0.8880, Acc=0.3886, LR=0.000520]\n",
      "Epoch 5/50 [Val]:   0%|          | 0/189 [00:00<?, ?it/s]\n",
      "Epoch 5/50 [Val]: 100%|██████████| 189/189 [01:40<00:00,  1.89it/s, Val Loss=1.8417, Val Acc=0.2619]\n",
      "\n"
     ]
    },
    {
     "name": "stdout",
     "output_type": "stream",
     "text": [
      "\n",
      "Epoch 5/50:\n",
      "Train Loss: 0.8880, Train Acc: 0.3886\n",
      "Val Loss: 1.8417, Val Acc: 0.2619\n",
      "Learning Rate: 0.000520\n"
     ]
    },
    {
     "name": "stderr",
     "output_type": "stream",
     "text": [
      "Epoch 6/50 [Train]: 100%|██████████| 1509/1509 [05:01<00:00,  5.00it/s, Loss=0.9049, Acc=0.3957, LR=0.000668]\n",
      "Epoch 6/50 [Train]: 100%|██████████| 1509/1509 [05:01<00:00,  5.00it/s, Loss=0.9049, Acc=0.3957, LR=0.000668]\n",
      "Epoch 6/50 [Val]: 100%|██████████| 189/189 [00:28<00:00,  6.69it/s, Val Loss=2.1448, Val Acc=0.1771]\n",
      "Epoch 6/50 [Val]: 100%|██████████| 189/189 [00:28<00:00,  6.69it/s, Val Loss=2.1448, Val Acc=0.1771]\n"
     ]
    },
    {
     "name": "stdout",
     "output_type": "stream",
     "text": [
      "\n",
      "Epoch 6/50:\n",
      "Train Loss: 0.9049, Train Acc: 0.3957\n",
      "Val Loss: 2.1448, Val Acc: 0.1771\n",
      "Learning Rate: 0.000668\n"
     ]
    },
    {
     "name": "stderr",
     "output_type": "stream",
     "text": [
      "Epoch 7/50 [Train]: 100%|██████████| 1509/1509 [09:35<00:00,  2.62it/s, Loss=0.8620, Acc=0.4113, LR=0.000802]\n",
      "Epoch 7/50 [Train]: 100%|██████████| 1509/1509 [09:35<00:00,  2.62it/s, Loss=0.8620, Acc=0.4113, LR=0.000802]\n",
      "Epoch 7/50 [Val]: 100%|██████████| 189/189 [01:23<00:00,  2.26it/s, Val Loss=1.5284, Val Acc=0.3780]\n",
      "\n"
     ]
    },
    {
     "name": "stdout",
     "output_type": "stream",
     "text": [
      "\n",
      "Epoch 7/50:\n",
      "Train Loss: 0.8620, Train Acc: 0.4113\n",
      "Val Loss: 1.5284, Val Acc: 0.3780\n",
      "Learning Rate: 0.000802\n"
     ]
    },
    {
     "name": "stderr",
     "output_type": "stream",
     "text": [
      "Epoch 8/50 [Train]: 100%|██████████| 1509/1509 [07:51<00:00,  3.20it/s, Loss=0.8404, Acc=0.4285, LR=0.000908]\n",
      "Epoch 8/50 [Train]: 100%|██████████| 1509/1509 [07:51<00:00,  3.20it/s, Loss=0.8404, Acc=0.4285, LR=0.000908]\n",
      "Epoch 8/50 [Val]: 100%|██████████| 189/189 [00:36<00:00,  5.17it/s, Val Loss=1.6538, Val Acc=0.2731]\n",
      "Epoch 8/50 [Val]: 100%|██████████| 189/189 [00:36<00:00,  5.17it/s, Val Loss=1.6538, Val Acc=0.2731]\n"
     ]
    },
    {
     "name": "stdout",
     "output_type": "stream",
     "text": [
      "\n",
      "Epoch 8/50:\n",
      "Train Loss: 0.8404, Train Acc: 0.4285\n",
      "Val Loss: 1.6538, Val Acc: 0.2731\n",
      "Learning Rate: 0.000908\n"
     ]
    },
    {
     "name": "stderr",
     "output_type": "stream",
     "text": [
      "Epoch 9/50 [Train]: 100%|██████████| 1509/1509 [05:17<00:00,  4.75it/s, Loss=0.7750, Acc=0.4530, LR=0.000977]\n",
      "Epoch 9/50 [Train]: 100%|██████████| 1509/1509 [05:17<00:00,  4.75it/s, Loss=0.7750, Acc=0.4530, LR=0.000977]\n",
      "Epoch 9/50 [Val]: 100%|██████████| 189/189 [00:36<00:00,  5.16it/s, Val Loss=1.5709, Val Acc=0.3632]\n",
      "Epoch 9/50 [Val]: 100%|██████████| 189/189 [00:36<00:00,  5.16it/s, Val Loss=1.5709, Val Acc=0.3632]\n"
     ]
    },
    {
     "name": "stdout",
     "output_type": "stream",
     "text": [
      "\n",
      "Epoch 9/50:\n",
      "Train Loss: 0.7750, Train Acc: 0.4530\n",
      "Val Loss: 1.5709, Val Acc: 0.3632\n",
      "Learning Rate: 0.000977\n"
     ]
    },
    {
     "name": "stderr",
     "output_type": "stream",
     "text": [
      "Epoch 10/50 [Train]: 100%|██████████| 1509/1509 [05:04<00:00,  4.95it/s, Loss=0.7186, Acc=0.4817, LR=0.001000]\n",
      "Epoch 10/50 [Train]: 100%|██████████| 1509/1509 [05:04<00:00,  4.95it/s, Loss=0.7186, Acc=0.4817, LR=0.001000]\n",
      "Epoch 10/50 [Val]: 100%|██████████| 189/189 [00:35<00:00,  5.30it/s, Val Loss=1.5163, Val Acc=0.3309]\n",
      "Epoch 10/50 [Val]: 100%|██████████| 189/189 [00:35<00:00,  5.30it/s, Val Loss=1.5163, Val Acc=0.3309]\n"
     ]
    },
    {
     "name": "stdout",
     "output_type": "stream",
     "text": [
      "\n",
      "Epoch 10/50:\n",
      "Train Loss: 0.7186, Train Acc: 0.4817\n",
      "Val Loss: 1.5163, Val Acc: 0.3309\n",
      "Learning Rate: 0.001000\n"
     ]
    },
    {
     "name": "stderr",
     "output_type": "stream",
     "text": [
      "Epoch 11/50 [Train]: 100%|██████████| 1509/1509 [05:33<00:00,  4.53it/s, Loss=0.7069, Acc=0.4979, LR=0.000998]\n",
      "Epoch 11/50 [Train]: 100%|██████████| 1509/1509 [05:33<00:00,  4.53it/s, Loss=0.7069, Acc=0.4979, LR=0.000998]\n",
      "Epoch 11/50 [Val]: 100%|██████████| 189/189 [00:35<00:00,  5.28it/s, Val Loss=1.4411, Val Acc=0.4125]\n",
      "\n"
     ]
    },
    {
     "name": "stdout",
     "output_type": "stream",
     "text": [
      "\n",
      "Epoch 11/50:\n",
      "Train Loss: 0.7069, Train Acc: 0.4979\n",
      "Val Loss: 1.4411, Val Acc: 0.4125\n",
      "Learning Rate: 0.000998\n"
     ]
    },
    {
     "name": "stderr",
     "output_type": "stream",
     "text": [
      "Epoch 12/50 [Train]: 100%|██████████| 1509/1509 [05:32<00:00,  4.54it/s, Loss=0.6477, Acc=0.5267, LR=0.000994]\n",
      "Epoch 12/50 [Train]: 100%|██████████| 1509/1509 [05:32<00:00,  4.54it/s, Loss=0.6477, Acc=0.5267, LR=0.000994]\n",
      "Epoch 12/50 [Val]: 100%|██████████| 189/189 [00:32<00:00,  5.84it/s, Val Loss=1.3683, Val Acc=0.4533]\n",
      "\n"
     ]
    },
    {
     "name": "stdout",
     "output_type": "stream",
     "text": [
      "\n",
      "Epoch 12/50:\n",
      "Train Loss: 0.6477, Train Acc: 0.5267\n",
      "Val Loss: 1.3683, Val Acc: 0.4533\n",
      "Learning Rate: 0.000994\n"
     ]
    },
    {
     "name": "stderr",
     "output_type": "stream",
     "text": [
      "Epoch 13/50 [Train]: 100%|██████████| 1509/1509 [05:25<00:00,  4.64it/s, Loss=0.6411, Acc=0.5321, LR=0.000986]\n",
      "Epoch 13/50 [Train]: 100%|██████████| 1509/1509 [05:25<00:00,  4.64it/s, Loss=0.6411, Acc=0.5321, LR=0.000986]\n",
      "Epoch 13/50 [Val]: 100%|██████████| 189/189 [00:31<00:00,  6.05it/s, Val Loss=1.2417, Val Acc=0.5154]\n",
      "\n"
     ]
    },
    {
     "name": "stdout",
     "output_type": "stream",
     "text": [
      "\n",
      "Epoch 13/50:\n",
      "Train Loss: 0.6411, Train Acc: 0.5321\n",
      "Val Loss: 1.2417, Val Acc: 0.5154\n",
      "Learning Rate: 0.000986\n"
     ]
    },
    {
     "name": "stderr",
     "output_type": "stream",
     "text": [
      "Epoch 14/50 [Train]: 100%|██████████| 1509/1509 [07:36<00:00,  3.31it/s, Loss=0.6096, Acc=0.5594, LR=0.000976]\n",
      "Epoch 14/50 [Train]: 100%|██████████| 1509/1509 [07:36<00:00,  3.31it/s, Loss=0.6096, Acc=0.5594, LR=0.000976]\n",
      "Epoch 14/50 [Val]: 100%|██████████| 189/189 [00:35<00:00,  5.32it/s, Val Loss=1.1526, Val Acc=0.5334]\n",
      "\n"
     ]
    },
    {
     "name": "stdout",
     "output_type": "stream",
     "text": [
      "\n",
      "Epoch 14/50:\n",
      "Train Loss: 0.6096, Train Acc: 0.5594\n",
      "Val Loss: 1.1526, Val Acc: 0.5334\n",
      "Learning Rate: 0.000976\n"
     ]
    },
    {
     "name": "stderr",
     "output_type": "stream",
     "text": [
      "Epoch 15/50 [Train]: 100%|██████████| 1509/1509 [06:04<00:00,  4.14it/s, Loss=0.6035, Acc=0.5632, LR=0.000962]\n",
      "Epoch 15/50 [Train]: 100%|██████████| 1509/1509 [06:04<00:00,  4.14it/s, Loss=0.6035, Acc=0.5632, LR=0.000962]\n",
      "Epoch 15/50 [Val]: 100%|██████████| 189/189 [00:35<00:00,  5.32it/s, Val Loss=1.2720, Val Acc=0.4995]\n",
      "Epoch 15/50 [Val]: 100%|██████████| 189/189 [00:35<00:00,  5.32it/s, Val Loss=1.2720, Val Acc=0.4995]\n"
     ]
    },
    {
     "name": "stdout",
     "output_type": "stream",
     "text": [
      "\n",
      "Epoch 15/50:\n",
      "Train Loss: 0.6035, Train Acc: 0.5632\n",
      "Val Loss: 1.2720, Val Acc: 0.4995\n",
      "Learning Rate: 0.000962\n"
     ]
    },
    {
     "name": "stderr",
     "output_type": "stream",
     "text": [
      "Epoch 16/50 [Train]: 100%|██████████| 1509/1509 [05:51<00:00,  4.29it/s, Loss=0.5893, Acc=0.5745, LR=0.000945]\n",
      "Epoch 16/50 [Train]: 100%|██████████| 1509/1509 [05:51<00:00,  4.29it/s, Loss=0.5893, Acc=0.5745, LR=0.000945]\n",
      "Epoch 16/50 [Val]: 100%|██████████| 189/189 [00:39<00:00,  4.77it/s, Val Loss=1.2578, Val Acc=0.4857]\n",
      "Epoch 16/50 [Val]: 100%|██████████| 189/189 [00:39<00:00,  4.77it/s, Val Loss=1.2578, Val Acc=0.4857]\n"
     ]
    },
    {
     "name": "stdout",
     "output_type": "stream",
     "text": [
      "\n",
      "Epoch 16/50:\n",
      "Train Loss: 0.5893, Train Acc: 0.5745\n",
      "Val Loss: 1.2578, Val Acc: 0.4857\n",
      "Learning Rate: 0.000945\n"
     ]
    },
    {
     "name": "stderr",
     "output_type": "stream",
     "text": [
      "Epoch 17/50 [Train]: 100%|██████████| 1509/1509 [06:44<00:00,  3.73it/s, Loss=0.5664, Acc=0.5882, LR=0.000926]\n",
      "Epoch 17/50 [Train]: 100%|██████████| 1509/1509 [06:44<00:00,  3.73it/s, Loss=0.5664, Acc=0.5882, LR=0.000926]\n",
      "Epoch 17/50 [Val]: 100%|██████████| 189/189 [00:35<00:00,  5.35it/s, Val Loss=1.1746, Val Acc=0.5191]\n",
      "Epoch 17/50 [Val]: 100%|██████████| 189/189 [00:35<00:00,  5.35it/s, Val Loss=1.1746, Val Acc=0.5191]\n"
     ]
    },
    {
     "name": "stdout",
     "output_type": "stream",
     "text": [
      "\n",
      "Epoch 17/50:\n",
      "Train Loss: 0.5664, Train Acc: 0.5882\n",
      "Val Loss: 1.1746, Val Acc: 0.5191\n",
      "Learning Rate: 0.000926\n"
     ]
    },
    {
     "name": "stderr",
     "output_type": "stream",
     "text": [
      "Epoch 18/50 [Train]: 100%|██████████| 1509/1509 [05:32<00:00,  4.54it/s, Loss=0.5482, Acc=0.6011, LR=0.000904]\n",
      "Epoch 18/50 [Train]: 100%|██████████| 1509/1509 [05:32<00:00,  4.54it/s, Loss=0.5482, Acc=0.6011, LR=0.000904]\n",
      "Epoch 18/50 [Val]: 100%|██████████| 189/189 [00:34<00:00,  5.41it/s, Val Loss=1.1302, Val Acc=0.5408]\n",
      "\n"
     ]
    },
    {
     "name": "stdout",
     "output_type": "stream",
     "text": [
      "\n",
      "Epoch 18/50:\n",
      "Train Loss: 0.5482, Train Acc: 0.6011\n",
      "Val Loss: 1.1302, Val Acc: 0.5408\n",
      "Learning Rate: 0.000904\n"
     ]
    },
    {
     "name": "stderr",
     "output_type": "stream",
     "text": [
      "Epoch 19/50 [Train]: 100%|██████████| 1509/1509 [05:35<00:00,  4.50it/s, Loss=0.5549, Acc=0.6046, LR=0.000880]\n",
      "Epoch 19/50 [Train]: 100%|██████████| 1509/1509 [05:35<00:00,  4.50it/s, Loss=0.5549, Acc=0.6046, LR=0.000880]\n",
      "Epoch 19/50 [Val]: 100%|██████████| 189/189 [00:35<00:00,  5.32it/s, Val Loss=1.0761, Val Acc=0.5880]\n",
      "\n"
     ]
    },
    {
     "name": "stdout",
     "output_type": "stream",
     "text": [
      "\n",
      "Epoch 19/50:\n",
      "Train Loss: 0.5549, Train Acc: 0.6046\n",
      "Val Loss: 1.0761, Val Acc: 0.5880\n",
      "Learning Rate: 0.000880\n"
     ]
    },
    {
     "name": "stderr",
     "output_type": "stream",
     "text": [
      "Epoch 20/50 [Train]: 100%|██████████| 1509/1509 [05:50<00:00,  4.31it/s, Loss=0.5179, Acc=0.6314, LR=0.000854]\n",
      "Epoch 20/50 [Train]: 100%|██████████| 1509/1509 [05:50<00:00,  4.31it/s, Loss=0.5179, Acc=0.6314, LR=0.000854]\n",
      "Epoch 20/50 [Val]: 100%|██████████| 189/189 [00:39<00:00,  4.84it/s, Val Loss=1.1117, Val Acc=0.5652]\n",
      "Epoch 20/50 [Val]: 100%|██████████| 189/189 [00:39<00:00,  4.84it/s, Val Loss=1.1117, Val Acc=0.5652]\n"
     ]
    },
    {
     "name": "stdout",
     "output_type": "stream",
     "text": [
      "\n",
      "Epoch 20/50:\n",
      "Train Loss: 0.5179, Train Acc: 0.6314\n",
      "Val Loss: 1.1117, Val Acc: 0.5652\n",
      "Learning Rate: 0.000854\n"
     ]
    },
    {
     "name": "stderr",
     "output_type": "stream",
     "text": [
      "Epoch 21/50 [Train]: 100%|██████████| 1509/1509 [05:08<00:00,  4.89it/s, Loss=0.5193, Acc=0.6324, LR=0.000825]\n",
      "Epoch 21/50 [Train]: 100%|██████████| 1509/1509 [05:08<00:00,  4.89it/s, Loss=0.5193, Acc=0.6324, LR=0.000825]\n",
      "Epoch 21/50 [Val]: 100%|██████████| 189/189 [00:34<00:00,  5.40it/s, Val Loss=1.0442, Val Acc=0.6034]\n",
      "\n"
     ]
    },
    {
     "name": "stdout",
     "output_type": "stream",
     "text": [
      "\n",
      "Epoch 21/50:\n",
      "Train Loss: 0.5193, Train Acc: 0.6324\n",
      "Val Loss: 1.0442, Val Acc: 0.6034\n",
      "Learning Rate: 0.000825\n"
     ]
    },
    {
     "name": "stderr",
     "output_type": "stream",
     "text": [
      "Epoch 22/50 [Train]: 100%|██████████| 1509/1509 [05:43<00:00,  4.40it/s, Loss=0.5120, Acc=0.6444, LR=0.000794]\n",
      "Epoch 22/50 [Train]: 100%|██████████| 1509/1509 [05:43<00:00,  4.40it/s, Loss=0.5120, Acc=0.6444, LR=0.000794]\n",
      "Epoch 22/50 [Val]: 100%|██████████| 189/189 [00:35<00:00,  5.40it/s, Val Loss=1.0990, Val Acc=0.5700]\n",
      "Epoch 22/50 [Val]: 100%|██████████| 189/189 [00:35<00:00,  5.40it/s, Val Loss=1.0990, Val Acc=0.5700]\n"
     ]
    },
    {
     "name": "stdout",
     "output_type": "stream",
     "text": [
      "\n",
      "Epoch 22/50:\n",
      "Train Loss: 0.5120, Train Acc: 0.6444\n",
      "Val Loss: 1.0990, Val Acc: 0.5700\n",
      "Learning Rate: 0.000794\n"
     ]
    },
    {
     "name": "stderr",
     "output_type": "stream",
     "text": [
      "Epoch 23/50 [Train]: 100%|██████████| 1509/1509 [05:56<00:00,  4.24it/s, Loss=0.5052, Acc=0.6554, LR=0.000761]\n",
      "Epoch 23/50 [Train]: 100%|██████████| 1509/1509 [05:56<00:00,  4.24it/s, Loss=0.5052, Acc=0.6554, LR=0.000761]\n",
      "Epoch 23/50 [Val]: 100%|██████████| 189/189 [00:38<00:00,  4.88it/s, Val Loss=1.0388, Val Acc=0.6230]\n",
      "\n"
     ]
    },
    {
     "name": "stdout",
     "output_type": "stream",
     "text": [
      "\n",
      "Epoch 23/50:\n",
      "Train Loss: 0.5052, Train Acc: 0.6554\n",
      "Val Loss: 1.0388, Val Acc: 0.6230\n",
      "Learning Rate: 0.000761\n"
     ]
    },
    {
     "name": "stderr",
     "output_type": "stream",
     "text": [
      "Epoch 24/50 [Train]: 100%|██████████| 1509/1509 [05:47<00:00,  4.34it/s, Loss=0.4913, Acc=0.6651, LR=0.000727]\n",
      "Epoch 24/50 [Train]: 100%|██████████| 1509/1509 [05:47<00:00,  4.34it/s, Loss=0.4913, Acc=0.6651, LR=0.000727]\n",
      "Epoch 24/50 [Val]: 100%|██████████| 189/189 [00:35<00:00,  5.34it/s, Val Loss=1.0562, Val Acc=0.6055]\n",
      "Epoch 24/50 [Val]: 100%|██████████| 189/189 [00:35<00:00,  5.34it/s, Val Loss=1.0562, Val Acc=0.6055]\n"
     ]
    },
    {
     "name": "stdout",
     "output_type": "stream",
     "text": [
      "\n",
      "Epoch 24/50:\n",
      "Train Loss: 0.4913, Train Acc: 0.6651\n",
      "Val Loss: 1.0562, Val Acc: 0.6055\n",
      "Learning Rate: 0.000727\n"
     ]
    },
    {
     "name": "stderr",
     "output_type": "stream",
     "text": [
      "Epoch 25/50 [Train]: 100%|██████████| 1509/1509 [06:06<00:00,  4.12it/s, Loss=0.4711, Acc=0.6746, LR=0.000691]\n",
      "Epoch 25/50 [Train]: 100%|██████████| 1509/1509 [06:06<00:00,  4.12it/s, Loss=0.4711, Acc=0.6746, LR=0.000691]\n",
      "Epoch 25/50 [Val]: 100%|██████████| 189/189 [00:41<00:00,  4.58it/s, Val Loss=0.9442, Val Acc=0.6654]\n",
      "\n"
     ]
    },
    {
     "name": "stdout",
     "output_type": "stream",
     "text": [
      "\n",
      "Epoch 25/50:\n",
      "Train Loss: 0.4711, Train Acc: 0.6746\n",
      "Val Loss: 0.9442, Val Acc: 0.6654\n",
      "Learning Rate: 0.000691\n"
     ]
    },
    {
     "name": "stderr",
     "output_type": "stream",
     "text": [
      "Epoch 26/50 [Train]: 100%|██████████| 1509/1509 [06:35<00:00,  3.82it/s, Loss=0.4622, Acc=0.6794, LR=0.000654]\n",
      "Epoch 26/50 [Train]: 100%|██████████| 1509/1509 [06:35<00:00,  3.82it/s, Loss=0.4622, Acc=0.6794, LR=0.000654]\n",
      "Epoch 26/50 [Val]: 100%|██████████| 189/189 [00:39<00:00,  4.81it/s, Val Loss=1.0166, Val Acc=0.6193]\n",
      "Epoch 26/50 [Val]: 100%|██████████| 189/189 [00:39<00:00,  4.81it/s, Val Loss=1.0166, Val Acc=0.6193]\n"
     ]
    },
    {
     "name": "stdout",
     "output_type": "stream",
     "text": [
      "\n",
      "Epoch 26/50:\n",
      "Train Loss: 0.4622, Train Acc: 0.6794\n",
      "Val Loss: 1.0166, Val Acc: 0.6193\n",
      "Learning Rate: 0.000654\n"
     ]
    },
    {
     "name": "stderr",
     "output_type": "stream",
     "text": [
      "Epoch 27/50 [Train]: 100%|██████████| 1509/1509 [05:34<00:00,  4.52it/s, Loss=0.4765, Acc=0.6838, LR=0.000617]\n",
      "Epoch 27/50 [Train]: 100%|██████████| 1509/1509 [05:34<00:00,  4.52it/s, Loss=0.4765, Acc=0.6838, LR=0.000617]\n",
      "Epoch 27/50 [Val]: 100%|██████████| 189/189 [00:34<00:00,  5.42it/s, Val Loss=0.9963, Val Acc=0.6007]\n",
      "Epoch 27/50 [Val]: 100%|██████████| 189/189 [00:34<00:00,  5.42it/s, Val Loss=0.9963, Val Acc=0.6007]\n"
     ]
    },
    {
     "name": "stdout",
     "output_type": "stream",
     "text": [
      "\n",
      "Epoch 27/50:\n",
      "Train Loss: 0.4765, Train Acc: 0.6838\n",
      "Val Loss: 0.9963, Val Acc: 0.6007\n",
      "Learning Rate: 0.000617\n"
     ]
    },
    {
     "name": "stderr",
     "output_type": "stream",
     "text": [
      "Epoch 28/50 [Train]: 100%|██████████| 1509/1509 [04:49<00:00,  5.21it/s, Loss=0.4716, Acc=0.6950, LR=0.000578]\n",
      "Epoch 28/50 [Train]: 100%|██████████| 1509/1509 [04:49<00:00,  5.21it/s, Loss=0.4716, Acc=0.6950, LR=0.000578]\n",
      "Epoch 28/50 [Val]: 100%|██████████| 189/189 [00:29<00:00,  6.32it/s, Val Loss=0.9909, Val Acc=0.6225]\n",
      "Epoch 28/50 [Val]: 100%|██████████| 189/189 [00:29<00:00,  6.32it/s, Val Loss=0.9909, Val Acc=0.6225]\n"
     ]
    },
    {
     "name": "stdout",
     "output_type": "stream",
     "text": [
      "\n",
      "Epoch 28/50:\n",
      "Train Loss: 0.4716, Train Acc: 0.6950\n",
      "Val Loss: 0.9909, Val Acc: 0.6225\n",
      "Learning Rate: 0.000578\n"
     ]
    },
    {
     "name": "stderr",
     "output_type": "stream",
     "text": [
      "Epoch 29/50 [Train]: 100%|██████████| 1509/1509 [04:46<00:00,  5.27it/s, Loss=0.4522, Acc=0.7018, LR=0.000539]\n",
      "Epoch 29/50 [Train]: 100%|██████████| 1509/1509 [04:46<00:00,  5.27it/s, Loss=0.4522, Acc=0.7018, LR=0.000539]\n",
      "Epoch 29/50 [Val]: 100%|██████████| 189/189 [00:31<00:00,  6.05it/s, Val Loss=0.9172, Val Acc=0.6649]\n",
      "Epoch 29/50 [Val]: 100%|██████████| 189/189 [00:31<00:00,  6.05it/s, Val Loss=0.9172, Val Acc=0.6649]\n"
     ]
    },
    {
     "name": "stdout",
     "output_type": "stream",
     "text": [
      "\n",
      "Epoch 29/50:\n",
      "Train Loss: 0.4522, Train Acc: 0.7018\n",
      "Val Loss: 0.9172, Val Acc: 0.6649\n",
      "Learning Rate: 0.000539\n"
     ]
    },
    {
     "name": "stderr",
     "output_type": "stream",
     "text": [
      "Epoch 30/50 [Train]: 100%|██████████| 1509/1509 [04:51<00:00,  5.18it/s, Loss=0.4450, Acc=0.7122, LR=0.000500]\n",
      "Epoch 30/50 [Train]: 100%|██████████| 1509/1509 [04:51<00:00,  5.18it/s, Loss=0.4450, Acc=0.7122, LR=0.000500]\n",
      "Epoch 30/50 [Val]: 100%|██████████| 189/189 [00:29<00:00,  6.33it/s, Val Loss=0.9236, Val Acc=0.6734]\n",
      "\n"
     ]
    },
    {
     "name": "stdout",
     "output_type": "stream",
     "text": [
      "\n",
      "Epoch 30/50:\n",
      "Train Loss: 0.4450, Train Acc: 0.7122\n",
      "Val Loss: 0.9236, Val Acc: 0.6734\n",
      "Learning Rate: 0.000500\n"
     ]
    },
    {
     "name": "stderr",
     "output_type": "stream",
     "text": [
      "Epoch 31/50 [Train]: 100%|██████████| 1509/1509 [04:46<00:00,  5.27it/s, Loss=0.4326, Acc=0.7179, LR=0.000461]\n",
      "Epoch 31/50 [Train]: 100%|██████████| 1509/1509 [04:46<00:00,  5.27it/s, Loss=0.4326, Acc=0.7179, LR=0.000461]\n",
      "Epoch 31/50 [Val]: 100%|██████████| 189/189 [00:30<00:00,  6.24it/s, Val Loss=0.9591, Val Acc=0.6490]\n",
      "Epoch 31/50 [Val]: 100%|██████████| 189/189 [00:30<00:00,  6.24it/s, Val Loss=0.9591, Val Acc=0.6490]\n"
     ]
    },
    {
     "name": "stdout",
     "output_type": "stream",
     "text": [
      "\n",
      "Epoch 31/50:\n",
      "Train Loss: 0.4326, Train Acc: 0.7179\n",
      "Val Loss: 0.9591, Val Acc: 0.6490\n",
      "Learning Rate: 0.000461\n"
     ]
    },
    {
     "name": "stderr",
     "output_type": "stream",
     "text": [
      "Epoch 32/50 [Train]: 100%|██████████| 1509/1509 [04:47<00:00,  5.25it/s, Loss=0.4372, Acc=0.7192, LR=0.000422]\n",
      "Epoch 32/50 [Train]: 100%|██████████| 1509/1509 [04:47<00:00,  5.25it/s, Loss=0.4372, Acc=0.7192, LR=0.000422]\n",
      "Epoch 32/50 [Val]: 100%|██████████| 189/189 [00:31<00:00,  5.99it/s, Val Loss=0.8679, Val Acc=0.6951]\n",
      "\n"
     ]
    },
    {
     "name": "stdout",
     "output_type": "stream",
     "text": [
      "\n",
      "Epoch 32/50:\n",
      "Train Loss: 0.4372, Train Acc: 0.7192\n",
      "Val Loss: 0.8679, Val Acc: 0.6951\n",
      "Learning Rate: 0.000422\n"
     ]
    },
    {
     "name": "stderr",
     "output_type": "stream",
     "text": [
      "Epoch 33/50 [Train]: 100%|██████████| 1509/1509 [06:31<00:00,  3.86it/s, Loss=0.4288, Acc=0.7333, LR=0.000383]\n",
      "Epoch 33/50 [Train]: 100%|██████████| 1509/1509 [06:31<00:00,  3.86it/s, Loss=0.4288, Acc=0.7333, LR=0.000383]\n",
      "Epoch 33/50 [Val]: 100%|██████████| 189/189 [00:35<00:00,  5.36it/s, Val Loss=0.9277, Val Acc=0.6935]\n",
      "Epoch 33/50 [Val]: 100%|██████████| 189/189 [00:35<00:00,  5.36it/s, Val Loss=0.9277, Val Acc=0.6935]\n"
     ]
    },
    {
     "name": "stdout",
     "output_type": "stream",
     "text": [
      "\n",
      "Epoch 33/50:\n",
      "Train Loss: 0.4288, Train Acc: 0.7333\n",
      "Val Loss: 0.9277, Val Acc: 0.6935\n",
      "Learning Rate: 0.000383\n"
     ]
    },
    {
     "name": "stderr",
     "output_type": "stream",
     "text": [
      "Epoch 34/50 [Train]: 100%|██████████| 1509/1509 [05:40<00:00,  4.43it/s, Loss=0.4180, Acc=0.7388, LR=0.000345]\n",
      "Epoch 34/50 [Train]: 100%|██████████| 1509/1509 [05:40<00:00,  4.43it/s, Loss=0.4180, Acc=0.7388, LR=0.000345]\n",
      "Epoch 34/50 [Val]: 100%|██████████| 189/189 [00:35<00:00,  5.36it/s, Val Loss=0.9117, Val Acc=0.6829]\n",
      "Epoch 34/50 [Val]: 100%|██████████| 189/189 [00:35<00:00,  5.36it/s, Val Loss=0.9117, Val Acc=0.6829]\n"
     ]
    },
    {
     "name": "stdout",
     "output_type": "stream",
     "text": [
      "\n",
      "Epoch 34/50:\n",
      "Train Loss: 0.4180, Train Acc: 0.7388\n",
      "Val Loss: 0.9117, Val Acc: 0.6829\n",
      "Learning Rate: 0.000345\n"
     ]
    },
    {
     "name": "stderr",
     "output_type": "stream",
     "text": [
      "Epoch 35/50 [Train]: 100%|██████████| 1509/1509 [05:39<00:00,  4.44it/s, Loss=0.4120, Acc=0.7459, LR=0.000309]\n",
      "Epoch 35/50 [Train]: 100%|██████████| 1509/1509 [05:39<00:00,  4.44it/s, Loss=0.4120, Acc=0.7459, LR=0.000309]\n",
      "Epoch 35/50 [Val]: 100%|██████████| 189/189 [00:35<00:00,  5.33it/s, Val Loss=0.8847, Val Acc=0.6925]\n",
      "Epoch 35/50 [Val]: 100%|██████████| 189/189 [00:35<00:00,  5.33it/s, Val Loss=0.8847, Val Acc=0.6925]\n"
     ]
    },
    {
     "name": "stdout",
     "output_type": "stream",
     "text": [
      "\n",
      "Epoch 35/50:\n",
      "Train Loss: 0.4120, Train Acc: 0.7459\n",
      "Val Loss: 0.8847, Val Acc: 0.6925\n",
      "Learning Rate: 0.000309\n"
     ]
    },
    {
     "name": "stderr",
     "output_type": "stream",
     "text": [
      "Epoch 36/50 [Train]: 100%|██████████| 1509/1509 [05:36<00:00,  4.48it/s, Loss=0.4166, Acc=0.7431, LR=0.000273]\n",
      "Epoch 36/50 [Train]: 100%|██████████| 1509/1509 [05:36<00:00,  4.48it/s, Loss=0.4166, Acc=0.7431, LR=0.000273]\n",
      "Epoch 36/50 [Val]: 100%|██████████| 189/189 [00:35<00:00,  5.38it/s, Val Loss=0.8925, Val Acc=0.6935]\n",
      "Epoch 36/50 [Val]: 100%|██████████| 189/189 [00:35<00:00,  5.38it/s, Val Loss=0.8925, Val Acc=0.6935]\n"
     ]
    },
    {
     "name": "stdout",
     "output_type": "stream",
     "text": [
      "\n",
      "Epoch 36/50:\n",
      "Train Loss: 0.4166, Train Acc: 0.7431\n",
      "Val Loss: 0.8925, Val Acc: 0.6935\n",
      "Learning Rate: 0.000273\n"
     ]
    },
    {
     "name": "stderr",
     "output_type": "stream",
     "text": [
      "Epoch 37/50 [Train]: 100%|██████████| 1509/1509 [05:38<00:00,  4.46it/s, Loss=0.4259, Acc=0.7474, LR=0.000239]\n",
      "Epoch 37/50 [Train]: 100%|██████████| 1509/1509 [05:38<00:00,  4.46it/s, Loss=0.4259, Acc=0.7474, LR=0.000239]\n",
      "Epoch 37/50 [Val]: 100%|██████████| 189/189 [00:35<00:00,  5.33it/s, Val Loss=0.8810, Val Acc=0.7185]\n",
      "\n"
     ]
    },
    {
     "name": "stdout",
     "output_type": "stream",
     "text": [
      "\n",
      "Epoch 37/50:\n",
      "Train Loss: 0.4259, Train Acc: 0.7474\n",
      "Val Loss: 0.8810, Val Acc: 0.7185\n",
      "Learning Rate: 0.000239\n"
     ]
    },
    {
     "name": "stderr",
     "output_type": "stream",
     "text": [
      "Epoch 38/50 [Train]: 100%|██████████| 1509/1509 [05:39<00:00,  4.44it/s, Loss=0.4108, Acc=0.7585, LR=0.000206]\n",
      "Epoch 38/50 [Train]: 100%|██████████| 1509/1509 [05:39<00:00,  4.44it/s, Loss=0.4108, Acc=0.7585, LR=0.000206]\n",
      "Epoch 38/50 [Val]: 100%|██████████| 189/189 [00:35<00:00,  5.33it/s, Val Loss=0.8889, Val Acc=0.6872]\n",
      "Epoch 38/50 [Val]: 100%|██████████| 189/189 [00:35<00:00,  5.33it/s, Val Loss=0.8889, Val Acc=0.6872]\n"
     ]
    },
    {
     "name": "stdout",
     "output_type": "stream",
     "text": [
      "\n",
      "Epoch 38/50:\n",
      "Train Loss: 0.4108, Train Acc: 0.7585\n",
      "Val Loss: 0.8889, Val Acc: 0.6872\n",
      "Learning Rate: 0.000206\n"
     ]
    },
    {
     "name": "stderr",
     "output_type": "stream",
     "text": [
      "Epoch 39/50 [Train]: 100%|██████████| 1509/1509 [05:37<00:00,  4.47it/s, Loss=0.3987, Acc=0.7619, LR=0.000175]\n",
      "Epoch 39/50 [Train]: 100%|██████████| 1509/1509 [05:37<00:00,  4.47it/s, Loss=0.3987, Acc=0.7619, LR=0.000175]\n",
      "Epoch 39/50 [Val]: 100%|██████████| 189/189 [00:36<00:00,  5.25it/s, Val Loss=0.9153, Val Acc=0.6829]\n",
      "Epoch 39/50 [Val]: 100%|██████████| 189/189 [00:36<00:00,  5.25it/s, Val Loss=0.9153, Val Acc=0.6829]\n"
     ]
    },
    {
     "name": "stdout",
     "output_type": "stream",
     "text": [
      "\n",
      "Epoch 39/50:\n",
      "Train Loss: 0.3987, Train Acc: 0.7619\n",
      "Val Loss: 0.9153, Val Acc: 0.6829\n",
      "Learning Rate: 0.000175\n"
     ]
    },
    {
     "name": "stderr",
     "output_type": "stream",
     "text": [
      "Epoch 40/50 [Train]: 100%|██████████| 1509/1509 [05:35<00:00,  4.49it/s, Loss=0.3959, Acc=0.7662, LR=0.000146]\n",
      "Epoch 40/50 [Train]: 100%|██████████| 1509/1509 [05:35<00:00,  4.49it/s, Loss=0.3959, Acc=0.7662, LR=0.000146]\n",
      "Epoch 40/50 [Val]: 100%|██████████| 189/189 [00:35<00:00,  5.27it/s, Val Loss=0.8845, Val Acc=0.6967]\n",
      "Epoch 40/50 [Val]: 100%|██████████| 189/189 [00:35<00:00,  5.27it/s, Val Loss=0.8845, Val Acc=0.6967]\n"
     ]
    },
    {
     "name": "stdout",
     "output_type": "stream",
     "text": [
      "\n",
      "Epoch 40/50:\n",
      "Train Loss: 0.3959, Train Acc: 0.7662\n",
      "Val Loss: 0.8845, Val Acc: 0.6967\n",
      "Learning Rate: 0.000146\n"
     ]
    },
    {
     "name": "stderr",
     "output_type": "stream",
     "text": [
      "Epoch 41/50 [Train]: 100%|██████████| 1509/1509 [05:41<00:00,  4.42it/s, Loss=0.4007, Acc=0.7644, LR=0.000120]\n",
      "Epoch 41/50 [Train]: 100%|██████████| 1509/1509 [05:41<00:00,  4.42it/s, Loss=0.4007, Acc=0.7644, LR=0.000120]\n",
      "Epoch 41/50 [Val]: 100%|██████████| 189/189 [00:34<00:00,  5.46it/s, Val Loss=0.9017, Val Acc=0.6978]\n",
      "Epoch 41/50 [Val]: 100%|██████████| 189/189 [00:34<00:00,  5.46it/s, Val Loss=0.9017, Val Acc=0.6978]\n"
     ]
    },
    {
     "name": "stdout",
     "output_type": "stream",
     "text": [
      "\n",
      "Epoch 41/50:\n",
      "Train Loss: 0.4007, Train Acc: 0.7644\n",
      "Val Loss: 0.9017, Val Acc: 0.6978\n",
      "Learning Rate: 0.000120\n"
     ]
    },
    {
     "name": "stderr",
     "output_type": "stream",
     "text": [
      "Epoch 42/50 [Train]: 100%|██████████| 1509/1509 [05:46<00:00,  4.36it/s, Loss=0.3930, Acc=0.7693, LR=0.000096]\n",
      "Epoch 42/50 [Train]: 100%|██████████| 1509/1509 [05:46<00:00,  4.36it/s, Loss=0.3930, Acc=0.7693, LR=0.000096]\n",
      "Epoch 42/50 [Val]: 100%|██████████| 189/189 [00:36<00:00,  5.24it/s, Val Loss=0.8931, Val Acc=0.6962]\n",
      "Epoch 42/50 [Val]: 100%|██████████| 189/189 [00:36<00:00,  5.24it/s, Val Loss=0.8931, Val Acc=0.6962]\n"
     ]
    },
    {
     "name": "stdout",
     "output_type": "stream",
     "text": [
      "\n",
      "Epoch 42/50:\n",
      "Train Loss: 0.3930, Train Acc: 0.7693\n",
      "Val Loss: 0.8931, Val Acc: 0.6962\n",
      "Learning Rate: 0.000096\n"
     ]
    },
    {
     "name": "stderr",
     "output_type": "stream",
     "text": [
      "Epoch 43/50 [Train]: 100%|██████████| 1509/1509 [05:43<00:00,  4.39it/s, Loss=0.4056, Acc=0.7660, LR=0.000074]\n",
      "Epoch 43/50 [Train]: 100%|██████████| 1509/1509 [05:43<00:00,  4.39it/s, Loss=0.4056, Acc=0.7660, LR=0.000074]\n",
      "Epoch 43/50 [Val]: 100%|██████████| 189/189 [00:38<00:00,  4.89it/s, Val Loss=0.8567, Val Acc=0.7243]\n",
      "\n"
     ]
    },
    {
     "name": "stdout",
     "output_type": "stream",
     "text": [
      "\n",
      "Epoch 43/50:\n",
      "Train Loss: 0.4056, Train Acc: 0.7660\n",
      "Val Loss: 0.8567, Val Acc: 0.7243\n",
      "Learning Rate: 0.000074\n"
     ]
    },
    {
     "name": "stderr",
     "output_type": "stream",
     "text": [
      "Epoch 44/50 [Train]: 100%|██████████| 1509/1509 [05:56<00:00,  4.24it/s, Loss=0.3853, Acc=0.7781, LR=0.000055]\n",
      "Epoch 44/50 [Train]: 100%|██████████| 1509/1509 [05:56<00:00,  4.24it/s, Loss=0.3853, Acc=0.7781, LR=0.000055]\n",
      "Epoch 44/50 [Val]: 100%|██████████| 189/189 [00:50<00:00,  3.77it/s, Val Loss=0.8994, Val Acc=0.7094]\n",
      "Epoch 44/50 [Val]: 100%|██████████| 189/189 [00:50<00:00,  3.77it/s, Val Loss=0.8994, Val Acc=0.7094]\n"
     ]
    },
    {
     "name": "stdout",
     "output_type": "stream",
     "text": [
      "\n",
      "Epoch 44/50:\n",
      "Train Loss: 0.3853, Train Acc: 0.7781\n",
      "Val Loss: 0.8994, Val Acc: 0.7094\n",
      "Learning Rate: 0.000055\n"
     ]
    },
    {
     "name": "stderr",
     "output_type": "stream",
     "text": [
      "Epoch 45/50 [Train]: 100%|██████████| 1509/1509 [06:05<00:00,  4.13it/s, Loss=0.3951, Acc=0.7708, LR=0.000038]\n",
      "Epoch 45/50 [Train]: 100%|██████████| 1509/1509 [06:05<00:00,  4.13it/s, Loss=0.3951, Acc=0.7708, LR=0.000038]\n",
      "Epoch 45/50 [Val]: 100%|██████████| 189/189 [00:28<00:00,  6.64it/s, Val Loss=0.8797, Val Acc=0.7163]\n",
      "Epoch 45/50 [Val]: 100%|██████████| 189/189 [00:28<00:00,  6.64it/s, Val Loss=0.8797, Val Acc=0.7163]\n"
     ]
    },
    {
     "name": "stdout",
     "output_type": "stream",
     "text": [
      "\n",
      "Epoch 45/50:\n",
      "Train Loss: 0.3951, Train Acc: 0.7708\n",
      "Val Loss: 0.8797, Val Acc: 0.7163\n",
      "Learning Rate: 0.000038\n"
     ]
    },
    {
     "name": "stderr",
     "output_type": "stream",
     "text": [
      "Epoch 46/50 [Train]: 100%|██████████| 1509/1509 [05:35<00:00,  4.49it/s, Loss=0.3872, Acc=0.7770, LR=0.000025]\n",
      "Epoch 46/50 [Train]: 100%|██████████| 1509/1509 [05:35<00:00,  4.49it/s, Loss=0.3872, Acc=0.7770, LR=0.000025]\n",
      "Epoch 46/50 [Val]: 100%|██████████| 189/189 [00:27<00:00,  6.84it/s, Val Loss=0.8813, Val Acc=0.7142]\n",
      "Epoch 46/50 [Val]: 100%|██████████| 189/189 [00:27<00:00,  6.84it/s, Val Loss=0.8813, Val Acc=0.7142]\n"
     ]
    },
    {
     "name": "stdout",
     "output_type": "stream",
     "text": [
      "\n",
      "Epoch 46/50:\n",
      "Train Loss: 0.3872, Train Acc: 0.7770\n",
      "Val Loss: 0.8813, Val Acc: 0.7142\n",
      "Learning Rate: 0.000025\n"
     ]
    },
    {
     "name": "stderr",
     "output_type": "stream",
     "text": [
      "Epoch 47/50 [Train]: 100%|██████████| 1509/1509 [05:04<00:00,  4.96it/s, Loss=0.3969, Acc=0.7754, LR=0.000014]\n",
      "Epoch 47/50 [Train]: 100%|██████████| 1509/1509 [05:04<00:00,  4.96it/s, Loss=0.3969, Acc=0.7754, LR=0.000014]\n",
      "Epoch 47/50 [Val]: 100%|██████████| 189/189 [00:34<00:00,  5.41it/s, Val Loss=0.8789, Val Acc=0.7057]\n",
      "Epoch 47/50 [Val]: 100%|██████████| 189/189 [00:34<00:00,  5.41it/s, Val Loss=0.8789, Val Acc=0.7057]\n"
     ]
    },
    {
     "name": "stdout",
     "output_type": "stream",
     "text": [
      "\n",
      "Epoch 47/50:\n",
      "Train Loss: 0.3969, Train Acc: 0.7754\n",
      "Val Loss: 0.8789, Val Acc: 0.7057\n",
      "Learning Rate: 0.000014\n"
     ]
    },
    {
     "name": "stderr",
     "output_type": "stream",
     "text": [
      "Epoch 48/50 [Train]: 100%|██████████| 1509/1509 [05:03<00:00,  4.98it/s, Loss=0.4019, Acc=0.7740, LR=0.000006]\n",
      "Epoch 48/50 [Train]: 100%|██████████| 1509/1509 [05:03<00:00,  4.98it/s, Loss=0.4019, Acc=0.7740, LR=0.000006]\n",
      "Epoch 48/50 [Val]: 100%|██████████| 189/189 [00:28<00:00,  6.54it/s, Val Loss=0.8712, Val Acc=0.7068]\n",
      "Epoch 48/50 [Val]: 100%|██████████| 189/189 [00:28<00:00,  6.54it/s, Val Loss=0.8712, Val Acc=0.7068]\n"
     ]
    },
    {
     "name": "stdout",
     "output_type": "stream",
     "text": [
      "\n",
      "Epoch 48/50:\n",
      "Train Loss: 0.4019, Train Acc: 0.7740\n",
      "Val Loss: 0.8712, Val Acc: 0.7068\n",
      "Learning Rate: 0.000006\n"
     ]
    },
    {
     "name": "stderr",
     "output_type": "stream",
     "text": [
      "Epoch 49/50 [Train]: 100%|██████████| 1509/1509 [05:36<00:00,  4.48it/s, Loss=0.3720, Acc=0.7785, LR=0.000002]\n",
      "Epoch 49/50 [Train]: 100%|██████████| 1509/1509 [05:36<00:00,  4.48it/s, Loss=0.3720, Acc=0.7785, LR=0.000002]\n",
      "Epoch 49/50 [Val]: 100%|██████████| 189/189 [00:30<00:00,  6.12it/s, Val Loss=0.8667, Val Acc=0.7232]\n",
      "Epoch 49/50 [Val]: 100%|██████████| 189/189 [00:30<00:00,  6.12it/s, Val Loss=0.8667, Val Acc=0.7232]\n"
     ]
    },
    {
     "name": "stdout",
     "output_type": "stream",
     "text": [
      "\n",
      "Epoch 49/50:\n",
      "Train Loss: 0.3720, Train Acc: 0.7785\n",
      "Val Loss: 0.8667, Val Acc: 0.7232\n",
      "Learning Rate: 0.000002\n"
     ]
    },
    {
     "name": "stderr",
     "output_type": "stream",
     "text": [
      "Epoch 50/50 [Train]: 100%|██████████| 1509/1509 [05:30<00:00,  4.57it/s, Loss=0.3850, Acc=0.7786, LR=0.000000]\n",
      "Epoch 50/50 [Train]: 100%|██████████| 1509/1509 [05:30<00:00,  4.57it/s, Loss=0.3850, Acc=0.7786, LR=0.000000]\n",
      "Epoch 50/50 [Val]: 100%|██████████| 189/189 [00:30<00:00,  6.14it/s, Val Loss=0.8620, Val Acc=0.7232]\n",
      "\n"
     ]
    },
    {
     "name": "stdout",
     "output_type": "stream",
     "text": [
      "\n",
      "Epoch 50/50:\n",
      "Train Loss: 0.3850, Train Acc: 0.7786\n",
      "Val Loss: 0.8620, Val Acc: 0.7232\n",
      "Learning Rate: 0.000000\n",
      "\n",
      "Loaded best model with validation accuracy: 0.7243\n"
     ]
    },
    {
     "data": {
      "image/png": "[encoded data removed]",
      "text/plain": [
       "<Figure size 1000x800 with 2 Axes>"
      ]
     },
     "metadata": {},
     "output_type": "display_data"
    },
    {
     "data": {
      "image/png": "[encoded data removed]",
      "text/plain": [
       "<Figure size 1000x500 with 1 Axes>"
      ]
     },
     "metadata": {},
     "output_type": "display_data"
    }
   ],
   "source": [
    "from sklearn.metrics import confusion_matrix\n",
    "import seaborn as sns\n",
    "\n",
    "def plot_confusion_matrix(y_true, y_pred, classes):\n",
    "    cm = confusion_matrix(y_true, y_pred)\n",
    "    plt.figure(figsize=(10,8))\n",
    "    sns.heatmap(cm, annot=True, fmt='d', cmap='Blues')\n",
    "    plt.xlabel('Predicted')\n",
    "    plt.ylabel('True')\n",
    "    plt.title('Confusion Matrix')\n",
    "    plt.show()\n",
    "\n",
    "# Training tracking\n",
    "best_val_acc = 0\n",
    "best_model_state = None\n",
    "patience = 10\n",
    "patience_counter = 0\n",
    "train_losses = []\n",
    "val_losses = []\n",
    "val_predictions = []\n",
    "val_targets = []\n",
    "\n",
    "for epoch in range(epochs):\n",
    "    # Training phase\n",
    "    model.train()\n",
    "    running_loss = 0\n",
    "    correct = 0\n",
    "    total = 0\n",
    "    \n",
    "    train_loop = tqdm(train_loader, desc=f'Epoch {epoch+1}/{epochs} [Train]')\n",
    "    for images, labels in train_loop:\n",
    "        images, labels = images.to(device), labels.to(device)\n",
    "        \n",
    "        # Mixup augmentation\n",
    "        images, labels_a, labels_b, lam = mixup_data(images, labels)\n",
    "        \n",
    "        optimizer.zero_grad()\n",
    "        outputs = model(images)\n",
    "        \n",
    "        loss = mixup_criterion(criterion, outputs, labels_a, labels_b, lam)\n",
    "        loss.backward()\n",
    "        \n",
    "        # Gradient clipping\n",
    "        torch.nn.utils.clip_grad_norm_(model.parameters(), max_norm=1.0)\n",
    "        \n",
    "        optimizer.step()\n",
    "        scheduler.step()\n",
    "        \n",
    "        running_loss += loss.item() * images.size(0)\n",
    "        _, predicted = torch.max(outputs.data, 1)\n",
    "        total += labels.size(0)\n",
    "        correct += (lam * (predicted == labels_a).sum().item()\n",
    "                   + (1 - lam) * (predicted == labels_b).sum().item())\n",
    "        \n",
    "        train_loop.set_postfix({\n",
    "            'Loss': f'{running_loss/total:.4f}',\n",
    "            'Acc': f'{correct/total:.4f}',\n",
    "            'LR': f'{optimizer.param_groups[0][\"lr\"]:.6f}'\n",
    "        })\n",
    "    \n",
    "    train_loss = running_loss / total\n",
    "    train_acc = correct / total\n",
    "    train_losses.append(train_loss)\n",
    "    \n",
    "    # Validation phase\n",
    "    model.eval()\n",
    "    val_loss = 0\n",
    "    val_correct = 0\n",
    "    val_total = 0\n",
    "    val_preds = []\n",
    "    val_true = []\n",
    "    \n",
    "    val_loop = tqdm(val_loader, desc=f'Epoch {epoch+1}/{epochs} [Val]')\n",
    "    with torch.no_grad():\n",
    "        for images, labels in val_loop:\n",
    "            images, labels = images.to(device), labels.to(device)\n",
    "            outputs = model(images)\n",
    "            loss = criterion(outputs, labels)\n",
    "            \n",
    "            val_loss += loss.item() * images.size(0)\n",
    "            _, predicted = torch.max(outputs.data, 1)\n",
    "            val_total += labels.size(0)\n",
    "            val_correct += (predicted == labels).sum().item()\n",
    "            \n",
    "            val_preds.extend(predicted.cpu().numpy())\n",
    "            val_true.extend(labels.cpu().numpy())\n",
    "            \n",
    "            val_loop.set_postfix({\n",
    "                'Val Loss': f'{val_loss/val_total:.4f}',\n",
    "                'Val Acc': f'{val_correct/val_total:.4f}'\n",
    "            })\n",
    "    \n",
    "    val_loss = val_loss / val_total\n",
    "    val_acc = val_correct / val_total\n",
    "    val_losses.append(val_loss)\n",
    "    \n",
    "    # Save predictions for confusion matrix\n",
    "    val_predictions = val_preds\n",
    "    val_targets = val_true\n",
    "    \n",
    "    print(f\"\\nEpoch {epoch+1}/{epochs}:\")\n",
    "    print(f\"Train Loss: {train_loss:.4f}, Train Acc: {train_acc:.4f}\")\n",
    "    print(f\"Val Loss: {val_loss:.4f}, Val Acc: {val_acc:.4f}\")\n",
    "    print(f\"Learning Rate: {optimizer.param_groups[0]['lr']:.6f}\")\n",
    "    \n",
    "    # Early stopping and model saving\n",
    "    if val_acc > best_val_acc:\n",
    "        best_val_acc = val_acc\n",
    "        best_model_state = model.state_dict().copy()\n",
    "        torch.save({\n",
    "            'epoch': epoch,\n",
    "            'model_state_dict': model.state_dict(),\n",
    "            'optimizer_state_dict': optimizer.state_dict(),\n",
    "            'scheduler_state_dict': scheduler.state_dict(),\n",
    "            'val_acc': val_acc,\n",
    "            'val_loss': val_loss,\n",
    "        }, 'skin_cnn_best.pth')\n",
    "        patience_counter = 0\n",
    "    else:\n",
    "        patience_counter += 1'\n",
    "        if patience_counter >= patience:\n",
    "            print(f\"\\nEarly stopping triggered after {epoch+1} epochs!\")\n",
    "            break\n",
    "\n",
    "# Load best model and plot final confusion matrix\n",
    "if best_model_state is not None:\n",
    "    model.load_state_dict(best_model_state)\n",
    "    print(f\"\\nLoaded best model with validation accuracy: {best_val_acc:.4f}\")\n",
    "    \n",
    "    # Plot final confusion matrix\n",
    "    plot_confusion_matrix(val_targets, val_predictions, range(num_classes))\n",
    "    \n",
    "# Plot loss curves\n",
    "plt.figure(figsize=(10,5))\n",
    "plt.plot(train_losses, label='Train Loss')\n",
    "plt.plot(val_losses, label='Validation Loss')\n",
    "plt.title('Training and Validation Loss')\n",
    "plt.xlabel('Epoch')\n",
    "plt.ylabel('Loss')\n",
    "plt.legend()\n",
    "plt.show()"
   ]
  },
  {
   "cell_type": "code",
   "execution_count": 10,
   "id": "7f21105f-1ca0-41fd-ae69-b46d8f64fe65",
   "metadata": {},
   "outputs": [
    {
     "name": "stdout",
     "output_type": "stream",
     "text": [
      "Models saved successfully:\n",
      "1. Full model saved to 'skin_cnn_full_model.pth'\n",
      "2. Checkpoint saved to 'skin_cnn_checkpoint.pth'\n",
      "\n",
      "You can use either file for inference:\n",
      "- Use 'skin_cnn_full_model.pth' for simple loading of the entire model\n",
      "- Use 'skin_cnn_checkpoint.pth' for more flexibility and access to model parameters\n"
     ]
    }
   ],
   "source": [
    "# Save the full model\n",
    "torch.save(model, \"skin_cnn_full_model.pth\")\n",
    "\n",
    "# Save a checkpoint with all necessary information\n",
    "checkpoint = {\n",
    "    'model_state_dict': model.state_dict(),\n",
    "    'optimizer_state_dict': optimizer.state_dict(),\n",
    "    'scheduler_state_dict': scheduler.state_dict(),\n",
    "    'class_names': full_dataset.classes,\n",
    "    'input_size': (128, 128),  # The image size we used for training\n",
    "    'normalize_mean': [0.485, 0.456, 0.406],  # ImageNet stats we used\n",
    "    'normalize_std': [0.229, 0.224, 0.225]\n",
    "}\n",
    "torch.save(checkpoint, \"skin_cnn_checkpoint.pth\")\n",
    "\n",
    "print(\"Models saved successfully:\")\n",
    "print(\"1. Full model saved to 'skin_cnn_full_model.pth'\")\n",
    "print(\"2. Checkpoint saved to 'skin_cnn_checkpoint.pth'\")\n",
    "print(\"\\nYou can use either file for inference:\")\n",
    "print(\"- Use 'skin_cnn_full_model.pth' for simple loading of the entire model\")\n",
    "print(\"- Use 'skin_cnn_checkpoint.pth' for more flexibility and access to model parameters\")"
   ]
  },
  {
   "cell_type": "code",
   "execution_count": 1,
   "id": "0691fdec-152b-462d-a213-d6db6896a0da",
   "metadata": {},
   "outputs": [
    {
     "ename": "NameError",
     "evalue": "name 'class_names' is not defined",
     "output_type": "error",
     "traceback": [
      "\u001b[31m---------------------------------------------------------------------------\u001b[39m",
      "\u001b[31mNameError\u001b[39m                                 Traceback (most recent call last)",
      "\u001b[36mCell\u001b[39m\u001b[36m \u001b[39m\u001b[32mIn[1]\u001b[39m\u001b[32m, line 1\u001b[39m\n\u001b[32m----> \u001b[39m\u001b[32m1\u001b[39m \u001b[38;5;28mprint\u001b[39m(\u001b[43mclass_names\u001b[49m)\n",
      "\u001b[31mNameError\u001b[39m: name 'class_names' is not defined"
     ]
    }
   ],
   "source": [
    "print(class_names)"
   ]
  },
  {
   "cell_type": "code",
   "execution_count": 2,
   "id": "10843ab9-5df3-44c7-a7c0-76325348e72d",
   "metadata": {},
   "outputs": [
    {
     "ename": "NameError",
     "evalue": "name 'dataset' is not defined",
     "output_type": "error",
     "traceback": [
      "\u001b[31m---------------------------------------------------------------------------\u001b[39m",
      "\u001b[31mNameError\u001b[39m                                 Traceback (most recent call last)",
      "\u001b[36mCell\u001b[39m\u001b[36m \u001b[39m\u001b[32mIn[2]\u001b[39m\u001b[32m, line 1\u001b[39m\n\u001b[32m----> \u001b[39m\u001b[32m1\u001b[39m \u001b[38;5;28mprint\u001b[39m(\u001b[43mdataset\u001b[49m.class_to_idx)\n\u001b[32m      2\u001b[39m \u001b[38;5;28mprint\u001b[39m(class_names)\n",
      "\u001b[31mNameError\u001b[39m: name 'dataset' is not defined"
     ]
    }
   ],
   "source": [
    "print(dataset.class_to_idx)\n",
    "print(class_names)\n"
   ]
  },
  {
   "cell_type": "raw",
   "id": "d4f86cbf-9cc8-499d-8a7c-443577c69b8b",
   "metadata": {},
   "source": []
  },
  {
   "cell_type": "code",
   "execution_count": 11,
   "id": "09ea8f52-e20f-4180-b8ad-e5e43f2839d0",
   "metadata": {},
   "outputs": [
    {
     "name": "stdout",
     "output_type": "stream",
     "text": [
      "Saved class names: ['Actinic keratoses', 'Basal cell carcinoma', 'Benign keratosis-like lesions', 'Dermatofibroma', 'Melanocytic nevi', 'Melanoma', 'Vascular lesions']\n",
      "\n",
      "Class names have been saved to 'class_names.pkl'\n"
     ]
    }
   ],
   "source": [
    "import pickle\n",
    "\n",
    "# Get class names from the dataset\n",
    "class_names = full_dataset.classes  # ['Actinic keratoses', 'Basal cell carcinoma', ...]\n",
    "\n",
    "# Save class names to a pickle file\n",
    "with open(\"class_names.pkl\", \"wb\") as f:\n",
    "    pickle.dump(class_names, f)\n",
    "\n",
    "print(\"Saved class names:\", class_names)\n",
    "print(\"\\nClass names have been saved to 'class_names.pkl'\")"
   ]
  },
  {
   "cell_type": "code",
   "execution_count": null,
   "id": "7ba7b120-1d80-42ac-a1b2-e2d82e08f420",
   "metadata": {},
   "outputs": [],
   "source": []
  }
 ],
 "metadata": {
  "kernelspec": {
   "display_name": "torch_gpu",
   "language": "python",
   "name": "python3"
  },
  "language_info": {
   "codemirror_mode": {
    "name": "ipython",
    "version": 3
   },
   "file_extension": ".py",
   "mimetype": "text/x-python",
   "name": "python",
   "nbconvert_exporter": "python",
   "pygments_lexer": "ipython3",
   "version": "3.12.12"
  }
 },
 "nbformat": 4,
 "nbformat_minor": 5
}
